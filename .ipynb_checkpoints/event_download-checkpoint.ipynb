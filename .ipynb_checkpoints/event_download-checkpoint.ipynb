{
 "cells": [
  {
   "cell_type": "code",
   "execution_count": null,
   "id": "29bac5bf-412b-4a64-bbe1-6d3387f07d21",
   "metadata": {},
   "outputs": [],
   "source": [
    "This is a demo for downloading event data"
   ]
  },
  {
   "cell_type": "code",
   "execution_count": null,
   "id": "89dec9d8-7cab-4bfb-a23a-c0dac4f86bbc",
   "metadata": {},
   "outputs": [],
   "source": [
    "# load module\n",
    "import seisdownload"
   ]
  },
  {
   "cell_type": "code",
   "execution_count": 1,
   "id": "29be8cdb-ea24-4b5d-8017-a1ca7c161caf",
   "metadata": {},
   "outputs": [],
   "source": [
    "# seismic waveform setting\n",
    "client_ini = \"IRIS\"\n",
    "starttime = \"2007-09-01 00:00:00\"\n",
    "endtime = \"2007-09-01 23:59:59\"\n",
    "channel = [\"*Z\"] # any Z component\n",
    "wave_len = 1800 # wave length 1800 s"
   ]
  },
  {
   "cell_type": "code",
   "execution_count": 2,
   "id": "a08291dc-e755-4af1-9c92-cf550d388c15",
   "metadata": {},
   "outputs": [],
   "source": [
    "# event domain setting\n",
    "# event domain type 0, (circular domain)  \n",
    "event_domain_type = 0\n",
    "# circular domain (center point: center_lat, center_lon)\n",
    "center_lat = -20\n",
    "center_lon = -60\n",
    "minradius = 0\n",
    "maxradius = 70\n",
    "evt_domain_range = [center_lat, center_lon, minradius, maxradius]\n",
    "# circular domain (center point: event_lat, event_lon)\n",
    "evt_domain_range = [event_lat, event_lon, minradius, maxradius]\n",
    "# event domain type 1, (rectangular domain)  \n",
    "event_domain_type = 1\n",
    "# rectangular domain\n",
    "evt_domain_range = [min_lat, max_lat, min_lon, max_lon]"
   ]
  },
  {
   "cell_type": "code",
   "execution_count": null,
   "id": "30414bed-a6fc-4279-bb49-df740f70e5c3",
   "metadata": {},
   "outputs": [],
   "source": [
    "# station domain setting\n",
    "# station_domain_type 0, (circular domain)\n",
    "# \n",
    "event_circ_center = False\n",
    "sta_domain_range = [cen_lat, cen_lon, minradius, maxradius]\n"
   ]
  }
 ],
 "metadata": {
  "kernelspec": {
   "display_name": "Python 3 (ipykernel)",
   "language": "python",
   "name": "python3"
  },
  "language_info": {
   "codemirror_mode": {
    "name": "ipython",
    "version": 3
   },
   "file_extension": ".py",
   "mimetype": "text/x-python",
   "name": "python",
   "nbconvert_exporter": "python",
   "pygments_lexer": "ipython3",
   "version": "3.9.18"
  }
 },
 "nbformat": 4,
 "nbformat_minor": 5
}
